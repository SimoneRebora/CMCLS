{
  "nbformat": 4,
  "nbformat_minor": 0,
  "metadata": {
    "colab": {
      "provenance": []
    },
    "kernelspec": {
      "name": "python3",
      "display_name": "Python 3"
    },
    "language_info": {
      "name": "python"
    }
  },
  "cells": [
    {
      "cell_type": "markdown",
      "source": [
        "## 1. Preparation\n",
        "\n",
        "**Before you start this notebook,** you need to:\n",
        "- Create a shortcut of the \"CMCLS\" folder in your Google Drive (so you can access all annotations)"
      ],
      "metadata": {
        "id": "gM7NIKcyzNlJ"
      }
    },
    {
      "cell_type": "markdown",
      "source": [
        "Once everything is ready, you can start preparing the procedure.  \n",
        "**First step:** Install all libraries  \n",
        "*(Note that you will have to authorize connecting the Notebook to your Google Drive)*"
      ],
      "metadata": {
        "id": "OnQjItQ8p6Ni"
      }
    },
    {
      "cell_type": "code",
      "execution_count": null,
      "metadata": {
        "id": "YjWQ51XbQR3b",
        "collapsed": true
      },
      "outputs": [],
      "source": [
        "import pandas as pd\n",
        "import numpy as np\n",
        "import os\n",
        "\n",
        "from google.colab import drive\n",
        "drive.mount('/content/drive')"
      ]
    },
    {
      "cell_type": "markdown",
      "source": [
        "**Second step:** Read the dataset and show it"
      ],
      "metadata": {
        "id": "cwo7VuXfqBJN"
      }
    },
    {
      "cell_type": "code",
      "source": [
        "# read the dataset\n",
        "df = pd.read_excel(\"/content/drive/MyDrive/CMCLS/curation.xlsx\")\n",
        "\n",
        "# list labels\n",
        "labels = list(set(df['curation']))\n",
        "for label in labels:\n",
        "  print(f'curation = {label}, count = {df[\"curation\"].tolist().count(label)}')\n",
        "\n",
        "# show data\n",
        "df = df[['sentence', 'curation', 'group']]\n",
        "df = df.rename(columns={'curation': 'label'})\n",
        "df['sentence'] = df['sentence'].astype('string')\n",
        "df"
      ],
      "metadata": {
        "id": "HP5S4BHHQtnN"
      },
      "execution_count": null,
      "outputs": []
    },
    {
      "cell_type": "markdown",
      "source": [
        "## 2. Evaluate ChatGPT annotations\n",
        "\n",
        "**Third step:** Load the GPT annotations and evaluate them."
      ],
      "metadata": {
        "id": "wCHb6g2XE0Y2"
      }
    },
    {
      "source": [
        "my_group = \"basic_prompt\"\n",
        "\n",
        "from sklearn.metrics import classification_report\n",
        "\n",
        "test = df[:98]\n",
        "predict = pd.read_excel(\"/content/drive/MyDrive/CMCLS/prompt_engineering/results/\"+my_group+\".xlsx\")\n",
        "\n",
        "# make predictions\n",
        "true_labels = []\n",
        "predicted_labels = []\n",
        "sentence = []\n",
        "\n",
        "for i in range(predict.shape[0]):\n",
        "  predicted_labels.append(predict.iloc[i,2])\n",
        "\n",
        "for i in range(test.shape[0]):\n",
        "  sentence.append(test.iloc[i,0])\n",
        "  true_labels.append(test.iloc[i,1])\n",
        "\n",
        "# print and save report\n",
        "report = classification_report(true_labels,predicted_labels,digits=3)\n",
        "print(report)\n",
        "\n",
        "# compare predictions and truth\n",
        "predict['true'] = true_labels\n",
        "predict['sentence'] = sentence\n",
        "predict"
      ],
      "cell_type": "code",
      "execution_count": null,
      "outputs": [],
      "metadata": {
        "cellView": "form",
        "id": "pWqH8PME-OMp"
      }
    },
    {
      "cell_type": "markdown",
      "source": [
        "**Fourth step:** Calculate Kappa to compare with humans"
      ],
      "metadata": {
        "id": "XmJMwCS4WX6V"
      }
    },
    {
      "cell_type": "code",
      "source": [
        "from sklearn.metrics import cohen_kappa_score\n",
        "\n",
        "# read the dataset\n",
        "df = pd.read_excel(\"/content/drive/MyDrive/CMCLS/curation.xlsx\")\n",
        "df = df[:98]\n",
        "\n",
        "# Select the two columns to compare\n",
        "col1 = df['annotator_1'].values\n",
        "col2 = df['annotator_2'].values\n",
        "\n",
        "# Calculate Cohen's Kappa scores\n",
        "print(\"Kappa between annotators: \")\n",
        "print(cohen_kappa_score(col1, col2))\n",
        "print(\"\\nKappa between annotator_1 and ChatGPT: \")\n",
        "print(cohen_kappa_score(col1, predicted_labels))\n",
        "print(\"\\nKappa between annotator_2 and ChatGPT:\")\n",
        "print(cohen_kappa_score(predicted_labels, col2))"
      ],
      "metadata": {
        "id": "8FBL8gFzWXL0"
      },
      "execution_count": null,
      "outputs": []
    }
  ]
}