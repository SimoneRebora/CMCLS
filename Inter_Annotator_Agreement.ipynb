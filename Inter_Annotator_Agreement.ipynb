{
  "nbformat": 4,
  "nbformat_minor": 0,
  "metadata": {
    "colab": {
      "provenance": []
    },
    "kernelspec": {
      "name": "python3",
      "display_name": "Python 3"
    },
    "language_info": {
      "name": "python"
    }
  },
  "cells": [
    {
      "cell_type": "markdown",
      "source": [
        "# Preparation"
      ],
      "metadata": {
        "id": "w8x2lO_Alpp-"
      }
    },
    {
      "cell_type": "markdown",
      "source": [
        "This is a **Python Notebook**. To make it work, you need to press \"play\" on the code cells.  \n",
        "*Remember to always run cells in the right order and never skip one!*  \n",
        "In case of doubt, you can always restart from the beginning."
      ],
      "metadata": {
        "id": "ZBblm8IezIs-"
      }
    },
    {
      "cell_type": "markdown",
      "source": [
        "First, let's clone the GitHub repository."
      ],
      "metadata": {
        "id": "YzeyRt32wynk"
      }
    },
    {
      "cell_type": "code",
      "source": [
        "!git clone https://github.com/SimoneRebora/CMCLS"
      ],
      "metadata": {
        "id": "YdNfivO-q4jM"
      },
      "execution_count": null,
      "outputs": []
    },
    {
      "cell_type": "markdown",
      "source": [
        "Let's update the GitHub repository, if changes have been made."
      ],
      "metadata": {
        "id": "xRO6ADDp-Q7V"
      }
    },
    {
      "cell_type": "code",
      "source": [
        "%cd CMCLS\n",
        "!git pull\n",
        "%cd .."
      ],
      "metadata": {
        "id": "u0Q7iqjF9wpS"
      },
      "execution_count": null,
      "outputs": []
    },
    {
      "cell_type": "markdown",
      "source": [
        "Then we load the dataset"
      ],
      "metadata": {
        "id": "RB2gFvMI1h1V"
      }
    },
    {
      "cell_type": "code",
      "source": [
        "# load all necessary packages\n",
        "import os\n",
        "import pandas as pd\n",
        "from sklearn.metrics import cohen_kappa_score\n",
        "\n",
        "# load the dataset\n",
        "\n",
        "df = pd.read_csv(\"CMCLS/materials/annotation_dataset.csv\", index_col=0)\n",
        "df"
      ],
      "metadata": {
        "id": "2EiOBQuPrb5c"
      },
      "execution_count": null,
      "outputs": []
    },
    {
      "cell_type": "markdown",
      "source": [
        "We need to split the dataset into groups, so to have five different dataframes for each group"
      ],
      "metadata": {
        "id": "iSRLmmxe1oag"
      }
    },
    {
      "cell_type": "code",
      "source": [
        "# Sample list defining the groups\n",
        "value_types = [\"1 : A\", \"2 : B\", \"3 : C\", \"4 : D\", \"5 : E\"]\n",
        "\n",
        "# Separate DataFrames for each condition\n",
        "df_A = pd.DataFrame()\n",
        "df_B = pd.DataFrame()\n",
        "df_C = pd.DataFrame()\n",
        "df_D = pd.DataFrame()\n",
        "df_E = pd.DataFrame()\n",
        "\n",
        "# Loop through each row in the original DataFrame\n",
        "for _, row in df.iterrows():\n",
        "    row_index = row[\"Q01\"]  # Use Q01 as the index for the new row\n",
        "    if row[\"Q02\"] == value_types[0]:\n",
        "        row_df = row.filter(regex='^Q03').to_frame().T\n",
        "        row_df.index = [row_index]\n",
        "        df_A = pd.concat([df_A, row_df])\n",
        "    elif row[\"Q02\"] == value_types[1]:\n",
        "        row_df = row.filter(regex='^Q04').to_frame().T\n",
        "        row_df.index = [row_index]\n",
        "        df_B = pd.concat([df_B, row_df])\n",
        "    elif row[\"Q02\"] == value_types[2]:\n",
        "        row_df = row.filter(regex='^Q05').to_frame().T\n",
        "        row_df.index = [row_index]\n",
        "        df_C = pd.concat([df_C, row_df])\n",
        "    elif row[\"Q02\"] == value_types[3]:\n",
        "        row_df = row.filter(regex='^Q06').to_frame().T\n",
        "        row_df.index = [row_index]\n",
        "        df_D = pd.concat([df_D, row_df])\n",
        "    elif row[\"Q02\"] == value_types[4]:\n",
        "        row_df = row.filter(regex='^Q07').to_frame().T\n",
        "        row_df.index = [row_index]\n",
        "        df_E = pd.concat([df_E, row_df])\n",
        "\n",
        "# print dimensions of the datasets\n",
        "print(\"Group A\", df_A.shape)\n",
        "print(\"Group B\", df_B.shape)\n",
        "print(\"Group C\", df_C.shape)\n",
        "print(\"Group D\", df_D.shape)\n",
        "print(\"Group E\", df_E.shape)"
      ],
      "metadata": {
        "id": "zTXtx1XTvkMo"
      },
      "execution_count": null,
      "outputs": []
    },
    {
      "cell_type": "markdown",
      "source": [
        "# Group A\n"
      ],
      "metadata": {
        "id": "2awIyWiZ1191"
      }
    },
    {
      "cell_type": "markdown",
      "source": [
        "Check the content of the dataset"
      ],
      "metadata": {
        "id": "IU4vZuLs_Q4u"
      }
    },
    {
      "cell_type": "code",
      "source": [
        "df_A"
      ],
      "metadata": {
        "id": "Y5sjf-1dxQpV"
      },
      "execution_count": null,
      "outputs": []
    },
    {
      "cell_type": "markdown",
      "source": [
        "Calculate inter-annotator agreement (using Cohen's Kappa)"
      ],
      "metadata": {
        "id": "YAonxh5Y_dMU"
      }
    },
    {
      "cell_type": "code",
      "source": [
        "# Select the two columns to compare\n",
        "col1 = df_A.iloc[0].values.astype(int)\n",
        "col2 = df_A.iloc[1].values.astype(int)\n",
        "\n",
        "# Calculate Cohen's Kappa score\n",
        "cohen_kappa_score(col1, col2)"
      ],
      "metadata": {
        "id": "BXK1ER5JxXMW"
      },
      "execution_count": null,
      "outputs": []
    },
    {
      "cell_type": "markdown",
      "source": [
        "# Group B"
      ],
      "metadata": {
        "id": "G5LignjW2EFh"
      }
    },
    {
      "cell_type": "markdown",
      "source": [
        "Check the content of the dataset"
      ],
      "metadata": {
        "id": "3XokH048_V0U"
      }
    },
    {
      "cell_type": "code",
      "source": [
        "df_B"
      ],
      "metadata": {
        "id": "wb7ncOrc2N9i"
      },
      "execution_count": null,
      "outputs": []
    },
    {
      "cell_type": "markdown",
      "source": [
        "Calculate inter-annotator agreement (using Cohen's Kappa)"
      ],
      "metadata": {
        "id": "9eDTnZ44_kR0"
      }
    },
    {
      "cell_type": "code",
      "source": [
        "# Select the two columns to compare\n",
        "col1 = df_B.iloc[0].values.astype(int)\n",
        "col2 = df_B.iloc[1].values.astype(int)\n",
        "\n",
        "# Calculate Cohen's Kappa score\n",
        "cohen_kappa_score(col1, col2)"
      ],
      "metadata": {
        "id": "eAi1Nu0A2Pu6"
      },
      "execution_count": null,
      "outputs": []
    },
    {
      "cell_type": "markdown",
      "source": [
        "# Group C"
      ],
      "metadata": {
        "id": "mRCErsg-2TGT"
      }
    },
    {
      "cell_type": "markdown",
      "source": [
        "Check the content of the dataset"
      ],
      "metadata": {
        "id": "8viaBRdq_W8A"
      }
    },
    {
      "cell_type": "code",
      "source": [
        "df_C"
      ],
      "metadata": {
        "id": "sqtmlFrv2Usn"
      },
      "execution_count": null,
      "outputs": []
    },
    {
      "cell_type": "markdown",
      "source": [
        "Calculate inter-annotator agreement (using Cohen's Kappa)"
      ],
      "metadata": {
        "id": "sl4PLX-v_lUZ"
      }
    },
    {
      "cell_type": "code",
      "source": [
        "# Select the two columns to compare\n",
        "col1 = df_C.iloc[0].values.astype(int)\n",
        "col2 = df_C.iloc[1].values.astype(int)\n",
        "\n",
        "# Calculate Cohen's Kappa score\n",
        "cohen_kappa_score(col1, col2)"
      ],
      "metadata": {
        "id": "Q24zaoBF2Wce"
      },
      "execution_count": null,
      "outputs": []
    },
    {
      "cell_type": "markdown",
      "source": [
        "# Group D"
      ],
      "metadata": {
        "id": "ODYxgoC42abt"
      }
    },
    {
      "cell_type": "markdown",
      "source": [
        "Check the content of the dataset"
      ],
      "metadata": {
        "id": "2IhTAt5N_XqE"
      }
    },
    {
      "cell_type": "code",
      "source": [
        "df_D"
      ],
      "metadata": {
        "id": "L3O_hZgv2Z0Z"
      },
      "execution_count": null,
      "outputs": []
    },
    {
      "cell_type": "markdown",
      "source": [
        "Calculate inter-annotator agreement (using Cohen's Kappa)"
      ],
      "metadata": {
        "id": "SwcRvk9c_mgs"
      }
    },
    {
      "cell_type": "code",
      "source": [
        "# Select the two columns to compare\n",
        "col1 = df_D.iloc[0].values.astype(int)\n",
        "col2 = df_D.iloc[1].values.astype(int)\n",
        "\n",
        "# Calculate Cohen's Kappa score\n",
        "cohen_kappa_score(col1, col2)"
      ],
      "metadata": {
        "id": "Ju9-cr8T2dU5"
      },
      "execution_count": null,
      "outputs": []
    },
    {
      "cell_type": "markdown",
      "source": [
        "# Group E"
      ],
      "metadata": {
        "id": "5ime0XXv2fwO"
      }
    },
    {
      "cell_type": "markdown",
      "source": [
        "Check the content of the dataset"
      ],
      "metadata": {
        "id": "hhJCtpyB_YcA"
      }
    },
    {
      "cell_type": "code",
      "source": [
        "df_E"
      ],
      "metadata": {
        "id": "rh-N5rCi2hW6"
      },
      "execution_count": null,
      "outputs": []
    },
    {
      "cell_type": "markdown",
      "source": [
        "Calculate inter-annotator agreement (using Cohen's Kappa)"
      ],
      "metadata": {
        "id": "D9opVUQ8_nkt"
      }
    },
    {
      "cell_type": "code",
      "source": [
        "# Select the two columns to compare\n",
        "col1 = df_E.iloc[0].values.astype(int)\n",
        "col2 = df_E.iloc[1].values.astype(int)\n",
        "\n",
        "# Calculate Cohen's Kappa score\n",
        "cohen_kappa_score(col1, col2)"
      ],
      "metadata": {
        "id": "h_dd2UQ42igv"
      },
      "execution_count": null,
      "outputs": []
    },
    {
      "cell_type": "markdown",
      "source": [
        "# Curation"
      ],
      "metadata": {
        "id": "0glUvd0X3e1B"
      }
    },
    {
      "cell_type": "markdown",
      "source": [
        "Join all annotation datasets to a single one."
      ],
      "metadata": {
        "id": "ImQ4acbQ_paj"
      }
    },
    {
      "cell_type": "code",
      "source": [
        "# Concatenate DataFrames horizontally\n",
        "concatenated_df = pd.concat([df_A[:2].reset_index(drop=True),\n",
        "                             df_B[:2].reset_index(drop=True),\n",
        "                             df_C[:2].reset_index(drop=True),\n",
        "                             df_D[:2].reset_index(drop=True),\n",
        "                             df_E[:2].reset_index(drop=True)], axis=1)\n",
        "\n",
        "# Rotate by transposing\n",
        "rotated_df = concatenated_df.transpose()\n",
        "\n",
        "provenance_labels = ['A'] * len(df_A.columns) + ['B'] * len(df_B.columns) + \\\n",
        "                    ['C'] * len(df_C.columns) + ['D'] * len(df_D.columns) + \\\n",
        "                    ['E'] * len(df_E.columns)\n",
        "\n",
        "rotated_df['group'] = provenance_labels\n",
        "\n",
        "# Rename columns to row_1, row_2, ...\n",
        "rotated_df.columns = ['annotator_1', 'annotator_2', 'group']\n",
        "\n",
        "# Replacing values: 1 -> \"evaluation\", 2 -> \"report\"\n",
        "rotated_df.replace({1: \"evaluation\", 2: \"report\"}, inplace=True)\n",
        "\n",
        "# Display the final DataFrame\n",
        "rotated_df"
      ],
      "metadata": {
        "id": "rESUb7KC3H0U"
      },
      "execution_count": null,
      "outputs": []
    },
    {
      "cell_type": "markdown",
      "source": [
        "Add the annotated texts.\n",
        "\n",
        "**Note:** Now you need to upload the dataset files to the Notebook, by using the \"Files\" panel on the left.  \n",
        "(you can find them in the Moodle, *Hands-on 7*)"
      ],
      "metadata": {
        "id": "Quj-ftIzCZnq"
      }
    },
    {
      "cell_type": "code",
      "source": [
        "# read source texts\n",
        "\n",
        "texts_A = pd.read_csv(\"Group_A.csv\")\n",
        "texts_B = pd.read_csv(\"Group_B.csv\")\n",
        "texts_C = pd.read_csv(\"Group_C.csv\")\n",
        "texts_D = pd.read_csv(\"Group_D.csv\")\n",
        "texts_E = pd.read_csv(\"Group_E.csv\")\n",
        "\n",
        "# reduce to what was annotated\n",
        "\n",
        "texts_A = texts_A[:len(df_A.columns)]\n",
        "texts_B = texts_B[:len(df_B.columns)]\n",
        "texts_C = texts_C[:len(df_C.columns)]\n",
        "texts_D = texts_D[:len(df_D.columns)]\n",
        "texts_E = texts_E[:len(df_E.columns)]\n",
        "\n",
        "# Concatenate DataFrames vertically\n",
        "full_df = pd.concat([texts_A, texts_B, texts_C, texts_D, texts_E], axis=0)\n",
        "\n",
        "full_df = full_df.reset_index(drop=True)\n",
        "rotated_df = rotated_df.reset_index(drop=True)\n",
        "\n",
        "# Add annotations\n",
        "result = pd.concat([full_df, rotated_df], axis=1, ignore_index=False)\n",
        "result['curation'] = result.apply(lambda row: row['annotator_1'] if row['annotator_1'] == row['annotator_2'] else None, axis=1)\n",
        "result"
      ],
      "metadata": {
        "id": "IX5DgZAX7oKy"
      },
      "execution_count": null,
      "outputs": []
    },
    {
      "cell_type": "markdown",
      "source": [
        "Save full annotated dataset for curation"
      ],
      "metadata": {
        "id": "FbURuiHS_07N"
      }
    },
    {
      "cell_type": "code",
      "source": [
        "# save the result to csv\n",
        "\n",
        "result.to_csv(\"curation.csv\", index=False)"
      ],
      "metadata": {
        "id": "kiz5IpXf_F3C"
      },
      "execution_count": null,
      "outputs": []
    }
  ]
}