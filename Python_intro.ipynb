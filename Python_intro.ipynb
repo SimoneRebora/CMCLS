{
  "nbformat": 4,
  "nbformat_minor": 0,
  "metadata": {
    "colab": {
      "provenance": []
    },
    "kernelspec": {
      "name": "python3",
      "display_name": "Python 3"
    },
    "language_info": {
      "name": "python"
    }
  },
  "cells": [
    {
      "cell_type": "markdown",
      "source": [
        "# Welcome!\n",
        "\n",
        "This is a Python notebook, created by Simone.   \n",
        "It is composed by two types of elements:\n",
        "\n",
        "- text cells, like this one (which contain comments, descriptions, etc.);\n",
        "- python code cells, like the one after \"1. Basic functions\"\n",
        "\n",
        "To run the code in the cell, click on the **Play** button on the left (it will appear by hovering on it).\n",
        "\n",
        "Please note that this introduction to python does the same operations in the [**R_intro.R**](https://github.com/SimoneRebora/CMCLS/blob/main/R_intro.R) file for R (but in Python language)."
      ],
      "metadata": {
        "id": "FpFhy1ctGbeY"
      }
    },
    {
      "cell_type": "markdown",
      "source": [
        "## 1. Basic functions"
      ],
      "metadata": {
        "id": "WJo1kTVaG0RF"
      }
    },
    {
      "cell_type": "code",
      "execution_count": null,
      "metadata": {
        "id": "WLEdlgDXGTrQ"
      },
      "outputs": [],
      "source": [
        "# print something to the screen\n",
        "print(\"Hello world\")"
      ]
    },
    {
      "cell_type": "code",
      "source": [
        "# get info on a function\n",
        "help(print)"
      ],
      "metadata": {
        "id": "-AMzmqJmHLL9"
      },
      "execution_count": null,
      "outputs": []
    },
    {
      "cell_type": "code",
      "source": [
        "# concatenate and print\n",
        "# note that with Python, the same is achieved by using just \"print\"\n",
        "print(\"The cat is\", \"on the table\", \"sleeping\")"
      ],
      "metadata": {
        "id": "LGjwqgZ-HM-U"
      },
      "execution_count": null,
      "outputs": []
    },
    {
      "cell_type": "code",
      "source": [
        "# add arguments (sep)\n",
        "print(\"The cat is\", \"on the table\", \"sleeping\", sep=\"\\n\")"
      ],
      "metadata": {
        "id": "wslRbAcnHbft"
      },
      "execution_count": null,
      "outputs": []
    },
    {
      "cell_type": "markdown",
      "source": [
        "## 2. Creating variables"
      ],
      "metadata": {
        "id": "flJslwQVHiyF"
      }
    },
    {
      "cell_type": "code",
      "source": [
        "# numbers\n",
        "my_number = 1\n",
        "print(my_number)"
      ],
      "metadata": {
        "id": "DnPUaxJdHk7q"
      },
      "execution_count": null,
      "outputs": []
    },
    {
      "cell_type": "code",
      "source": [
        "# strings of text\n",
        "my_string = \"to be or not to be\"\n",
        "print(my_string)"
      ],
      "metadata": {
        "id": "xvrdvXyMHpH1"
      },
      "execution_count": null,
      "outputs": []
    },
    {
      "cell_type": "code",
      "source": [
        "# lists (Python doesn't have vectors, but lists are equivalent)\n",
        "my_first_list = [1, 2, 3, 4, 5]\n",
        "print(my_first_list)"
      ],
      "metadata": {
        "id": "VlVv6eEEHsqE"
      },
      "execution_count": null,
      "outputs": []
    },
    {
      "cell_type": "code",
      "source": [
        "# lists (of strings)\n",
        "my_second_list = [\"to\", \"be\", \"or\", \"not\", \"to\", \"be\"]\n",
        "print(my_second_list)"
      ],
      "metadata": {
        "id": "3OhGMOQ7HvZi"
      },
      "execution_count": null,
      "outputs": []
    },
    {
      "cell_type": "code",
      "source": [
        "# lists of lists\n",
        "my_list = [my_first_list, my_second_list]\n",
        "print(my_list)"
      ],
      "metadata": {
        "id": "WJ5dUEWoHzoe"
      },
      "execution_count": null,
      "outputs": []
    },
    {
      "cell_type": "markdown",
      "source": [
        "## 3. Working with text files"
      ],
      "metadata": {
        "id": "PfgQdMXdH5f4"
      }
    },
    {
      "cell_type": "code",
      "source": [
        "# import necessary modules\n",
        "import os\n",
        "\n",
        "# print working directory\n",
        "print(os.getcwd())"
      ],
      "metadata": {
        "id": "xMzaT8LQH5F3"
      },
      "execution_count": null,
      "outputs": []
    },
    {
      "cell_type": "markdown",
      "source": [
        "Now, if you want to upload a text, you should add it to the **Files** panel on the left.  \n",
        "You can upload the file available [here](https://univr-my.sharepoint.com/:t:/g/personal/simone_rebora_univr_it/EXzomU3o74pLsDF-Rz3UEj8BXpAHAXZmMhT9aojxM9GPDA?e=TxIsC3) (by first downloading it to your computer)."
      ],
      "metadata": {
        "id": "OWXsPccDIFWu"
      }
    },
    {
      "cell_type": "code",
      "source": [
        "# read text line by line\n",
        "with open(\"Cbronte_Jane_1847.txt\", \"r\", encoding=\"utf-8-sig\") as file:\n",
        "    my_text = file.readlines()\n",
        "\n",
        "print(my_text[:6])  # equivalent of head(my_text)"
      ],
      "metadata": {
        "id": "tGgcB0wEIEx7"
      },
      "execution_count": null,
      "outputs": []
    },
    {
      "cell_type": "code",
      "source": [
        "# split the text into words (in lowercase)\n",
        "my_words_lower = [word for line in my_text for word in line.lower().split()]\n",
        "print(my_words_lower[:6])"
      ],
      "metadata": {
        "id": "1xVXs1ZnKjVd"
      },
      "execution_count": null,
      "outputs": []
    },
    {
      "cell_type": "code",
      "source": [
        "# calculate the frequency of words\n",
        "from collections import Counter\n",
        "word_freq = Counter(my_words_lower)\n",
        "print(word_freq)\n",
        "\n",
        "# print the 100 most used words\n",
        "sorted_word_freq = sorted(word_freq.items(), key=lambda x: x[1], reverse=True)\n",
        "sorted_word_freq[:100]"
      ],
      "metadata": {
        "id": "bQhG8z-_K3Q7"
      },
      "execution_count": null,
      "outputs": []
    }
  ]
}